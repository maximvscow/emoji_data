{
 "cells": [
  {
   "cell_type": "markdown",
   "id": "1a4fe6ac",
   "metadata": {},
   "source": [
    "# Анализ использования emoji в комментариях социальной сети"
   ]
  },
  {
   "cell_type": "markdown",
   "id": "c3a632c4",
   "metadata": {},
   "source": [
    "Для дальнейшей разработки модели определения смыслового содержания (заложенного смысла в использование) emoji (может быть ирония, тональность, замена слова на символ, тренды (вбросы, флешмобы))"
   ]
  },
  {
   "cell_type": "markdown",
   "id": "1cc35fde",
   "metadata": {},
   "source": [
    "> Важный момент, что датасет небольшой. Для корректной статистики следует выбрать около 500 000 комментариев"
   ]
  },
  {
   "cell_type": "code",
   "execution_count": 99,
   "id": "334782a8",
   "metadata": {},
   "outputs": [],
   "source": [
    "import pandas as pd\n",
    "import emoji\n",
    "import seaborn as sns\n",
    "import matplotlib.pyplot as pl"
   ]
  },
  {
   "cell_type": "code",
   "execution_count": 100,
   "id": "c06f13f7",
   "metadata": {},
   "outputs": [],
   "source": [
    "colnames = ['index', 'comment']"
   ]
  },
  {
   "cell_type": "code",
   "execution_count": 101,
   "id": "7634435e",
   "metadata": {},
   "outputs": [],
   "source": [
    "df = pd.read_csv('vk_parce/data.csv', names=colnames, header=None)"
   ]
  },
  {
   "cell_type": "code",
   "execution_count": 102,
   "id": "b40aaa8c",
   "metadata": {},
   "outputs": [],
   "source": [
    "df = df.drop(labels = [0,1],axis = 0)"
   ]
  },
  {
   "cell_type": "code",
   "execution_count": 103,
   "id": "06abcc84",
   "metadata": {},
   "outputs": [],
   "source": [
    "df = df.drop(columns = ['index'],axis = 1)"
   ]
  },
  {
   "cell_type": "code",
   "execution_count": 104,
   "id": "957fa2bb",
   "metadata": {},
   "outputs": [
    {
     "data": {
      "text/html": [
       "<div>\n",
       "<style scoped>\n",
       "    .dataframe tbody tr th:only-of-type {\n",
       "        vertical-align: middle;\n",
       "    }\n",
       "\n",
       "    .dataframe tbody tr th {\n",
       "        vertical-align: top;\n",
       "    }\n",
       "\n",
       "    .dataframe thead th {\n",
       "        text-align: right;\n",
       "    }\n",
       "</style>\n",
       "<table border=\"1\" class=\"dataframe\">\n",
       "  <thead>\n",
       "    <tr style=\"text-align: right;\">\n",
       "      <th></th>\n",
       "      <th>comment</th>\n",
       "    </tr>\n",
       "  </thead>\n",
       "  <tbody>\n",
       "    <tr>\n",
       "      <th>2</th>\n",
       "      <td>Немцы так нехотя делают эти санкции, высылку д...</td>\n",
       "    </tr>\n",
       "    <tr>\n",
       "      <th>3</th>\n",
       "      <td>а в чём прикол дипломатов туда-сюда гонять ?</td>\n",
       "    </tr>\n",
       "    <tr>\n",
       "      <th>4</th>\n",
       "      <td>Вообще, это все логично. Абсолютно ожидаемое п...</td>\n",
       "    </tr>\n",
       "    <tr>\n",
       "      <th>5</th>\n",
       "      <td>NaN</td>\n",
       "    </tr>\n",
       "    <tr>\n",
       "      <th>6</th>\n",
       "      <td>[id717273538|Matilda], детишками ты никого не ...</td>\n",
       "    </tr>\n",
       "    <tr>\n",
       "      <th>...</th>\n",
       "      <td>...</td>\n",
       "    </tr>\n",
       "    <tr>\n",
       "      <th>10080</th>\n",
       "      <td>[id166433695|Олеся], а почему? Что случилось?</td>\n",
       "    </tr>\n",
       "    <tr>\n",
       "      <th>10081</th>\n",
       "      <td>[id456583764|Бекжан], скрепа немного прогнулась.</td>\n",
       "    </tr>\n",
       "    <tr>\n",
       "      <th>10082</th>\n",
       "      <td>[id166433695|Олеся], интересно, почему?) ну ин...</td>\n",
       "    </tr>\n",
       "    <tr>\n",
       "      <th>10083</th>\n",
       "      <td>[id463112073|Михаил], да вроде нет, нет твоих ...</td>\n",
       "    </tr>\n",
       "    <tr>\n",
       "      <th>10084</th>\n",
       "      <td>[id589969600|Петр], шутишь прям как твой кумир...</td>\n",
       "    </tr>\n",
       "  </tbody>\n",
       "</table>\n",
       "<p>10083 rows × 1 columns</p>\n",
       "</div>"
      ],
      "text/plain": [
       "                                                 comment\n",
       "2      Немцы так нехотя делают эти санкции, высылку д...\n",
       "3           а в чём прикол дипломатов туда-сюда гонять ?\n",
       "4      Вообще, это все логично. Абсолютно ожидаемое п...\n",
       "5                                                    NaN\n",
       "6      [id717273538|Matilda], детишками ты никого не ...\n",
       "...                                                  ...\n",
       "10080      [id166433695|Олеся], а почему? Что случилось?\n",
       "10081   [id456583764|Бекжан], скрепа немного прогнулась.\n",
       "10082  [id166433695|Олеся], интересно, почему?) ну ин...\n",
       "10083  [id463112073|Михаил], да вроде нет, нет твоих ...\n",
       "10084  [id589969600|Петр], шутишь прям как твой кумир...\n",
       "\n",
       "[10083 rows x 1 columns]"
      ]
     },
     "execution_count": 104,
     "metadata": {},
     "output_type": "execute_result"
    }
   ],
   "source": [
    "df"
   ]
  },
  {
   "cell_type": "markdown",
   "id": "c2f0656e",
   "metadata": {},
   "source": [
    "### Тут проверка на наличие emoji"
   ]
  },
  {
   "cell_type": "code",
   "execution_count": 105,
   "id": "1e390822",
   "metadata": {},
   "outputs": [],
   "source": [
    "def emoji_check(comment):\n",
    "    k = 0\n",
    "    for c in str(comment):\n",
    "        if c in emoji.UNICODE_EMOJI['en']:\n",
    "            k += 1\n",
    "    if k == 0:\n",
    "        comment = None\n",
    "    return comment"
   ]
  },
  {
   "cell_type": "code",
   "execution_count": 106,
   "id": "8891823e",
   "metadata": {},
   "outputs": [
    {
     "name": "stdout",
     "output_type": "stream",
     "text": [
      "0.06110223642172524\n"
     ]
    }
   ],
   "source": [
    "attitude = df_includes.count() / df.count()['comment']\n",
    "print(attitude)"
   ]
  },
  {
   "cell_type": "code",
   "execution_count": 107,
   "id": "51db8b6d",
   "metadata": {},
   "outputs": [],
   "source": [
    "def emoji_only(comment):\n",
    "    for c in str(comment):\n",
    "        if c not in emoji.UNICODE_EMOJI['en']:\n",
    "            comment = None\n",
    "    return comment"
   ]
  },
  {
   "cell_type": "code",
   "execution_count": 108,
   "id": "6f25cafa",
   "metadata": {},
   "outputs": [],
   "source": [
    "df_emoji = df['comment'].apply(emoji_check)"
   ]
  },
  {
   "cell_type": "code",
   "execution_count": 109,
   "id": "cdc56f65",
   "metadata": {},
   "outputs": [
    {
     "data": {
      "text/plain": [
       "29       Тот момент когда знающий узбекский видит во вс...\n",
       "60                                   [id716565173|Юлия], 👍\n",
       "66                     [id713323252|Анна], да да ❤🤍русских\n",
       "69       [id715257381|Надежда], а чё админы удаляют мои...\n",
       "106                                  [id716565173|Юлия], 👍\n",
       "                               ...                        \n",
       "10073         [id201363255|Анастасия], так не смотрите🤷‍♂️\n",
       "10074    [id201363255|Анастасия], если платить будут за...\n",
       "10076    [id201363255|Анастасия], им же платят за просм...\n",
       "10077    [id598843203|Олег], ну смех смехом 👆вот почему...\n",
       "10078    Были бы фильмы сейчас хорошие,а то Бэтмена отм...\n",
       "Name: comment, Length: 1002, dtype: object"
      ]
     },
     "execution_count": 109,
     "metadata": {},
     "output_type": "execute_result"
    }
   ],
   "source": [
    "df_emoji = df_emoji.dropna()\n",
    "df_emoji"
   ]
  },
  {
   "cell_type": "markdown",
   "id": "8d1ed8f3",
   "metadata": {},
   "source": [
    "Сообщения, которые содержат emoji"
   ]
  },
  {
   "cell_type": "code",
   "execution_count": 110,
   "id": "e1ceb8f8",
   "metadata": {},
   "outputs": [],
   "source": [
    "df_emoji_only = df['comment'].apply(emoji_only)"
   ]
  },
  {
   "cell_type": "code",
   "execution_count": 111,
   "id": "ecdfcd80",
   "metadata": {},
   "outputs": [
    {
     "data": {
      "text/plain": [
       "1610    🤣🤣🤣🤣🤣\n",
       "8837        😄\n",
       "8863        😄\n",
       "8894        😄\n",
       "8928        😄\n",
       "8961        😄\n",
       "9001        😄\n",
       "9035        😄\n",
       "9079        😄\n",
       "9126        😄\n",
       "9179        😄\n",
       "9236        😄\n",
       "9296        😄\n",
       "9359        😄\n",
       "9426        😄\n",
       "9510        😄\n",
       "9594        😄\n",
       "9690        😄\n",
       "9788        😄\n",
       "9894        😄\n",
       "9981     👏👏👏👏\n",
       "9998        😄\n",
       "Name: comment, dtype: object"
      ]
     },
     "execution_count": 111,
     "metadata": {},
     "output_type": "execute_result"
    }
   ],
   "source": [
    "df_emoji_only = df_emoji_only.dropna()\n",
    "df_emoji_only"
   ]
  },
  {
   "cell_type": "markdown",
   "id": "f550a85c",
   "metadata": {},
   "source": [
    "Сообщения, которые содержать только emoji без текста"
   ]
  },
  {
   "cell_type": "markdown",
   "id": "21a793d2",
   "metadata": {},
   "source": [
    "### Немного банальной статистики"
   ]
  },
  {
   "cell_type": "code",
   "execution_count": 112,
   "id": "f2b4bab2",
   "metadata": {},
   "outputs": [
    {
     "name": "stdout",
     "output_type": "stream",
     "text": [
      "0.10003993610223642\n"
     ]
    }
   ],
   "source": [
    "attitude = df_emoji.count() / df.count()['comment']\n",
    "print(attitude)"
   ]
  },
  {
   "cell_type": "markdown",
   "id": "1cb35a0a",
   "metadata": {},
   "source": [
    "Около 10% сообщений содержат emoji"
   ]
  },
  {
   "cell_type": "code",
   "execution_count": 113,
   "id": "c719dd17",
   "metadata": {},
   "outputs": [
    {
     "name": "stdout",
     "output_type": "stream",
     "text": [
      "0.021956087824351298\n"
     ]
    }
   ],
   "source": [
    "only_att = df_emoji_only.count() / df_emoji.count()\n",
    "print(only_att)"
   ]
  },
  {
   "cell_type": "markdown",
   "id": "652e7e29",
   "metadata": {},
   "source": [
    "Только 2% сообщений из тех, которые содержат emoji, состоят только из них"
   ]
  },
  {
   "cell_type": "markdown",
   "id": "1c592fae",
   "metadata": {},
   "source": [
    "## Статистика использования emoji"
   ]
  },
  {
   "cell_type": "code",
   "execution_count": 114,
   "id": "eba601ff",
   "metadata": {},
   "outputs": [],
   "source": [
    "emoji_list = []\n",
    "def extract_emojis(s):\n",
    "    for c in s:\n",
    "        if c in emoji.UNICODE_EMOJI['en']:\n",
    "            emoji_list.append(c)\n",
    "    return emoji_list"
   ]
  },
  {
   "cell_type": "code",
   "execution_count": 115,
   "id": "192d36e4",
   "metadata": {},
   "outputs": [],
   "source": [
    "emojis = df_emoji.apply(extract_emojis).iloc[-1]"
   ]
  },
  {
   "cell_type": "code",
   "execution_count": 116,
   "id": "d1460e4b",
   "metadata": {},
   "outputs": [],
   "source": [
    "from collections import Counter"
   ]
  },
  {
   "cell_type": "code",
   "execution_count": 117,
   "id": "775cf5f2",
   "metadata": {},
   "outputs": [],
   "source": [
    "c = Counter(emojis)"
   ]
  },
  {
   "cell_type": "code",
   "execution_count": 118,
   "id": "5d5907ab",
   "metadata": {},
   "outputs": [
    {
     "name": "stdout",
     "output_type": "stream",
     "text": [
      ":face_with_tears_of_joy: 😂 362\n",
      ":rolling_on_the_floor_laughing: 🤣 356\n",
      ":grinning_face_with_smiling_eyes: 😄 115\n",
      ":thumbs_up: 👍 97\n",
      ":person_shrugging: 🤷 81\n",
      ":dollar_banknote: 💵 80\n",
      ":grinning_squinting_face: 😆 75\n",
      ":male_sign: ♂ 43\n",
      ":grinning_face_with_sweat: 😅 42\n",
      ":thinking_face: 🤔 40\n",
      ":female_sign: ♀ 40\n",
      ":victory_hand: ✌ 31\n",
      ":smirking_face: 😏 29\n",
      ":clown_face: 🤡 25\n",
      ":red_heart: ❤ 24\n",
      ":white_heart: 🤍 24\n",
      ":relieved_face: 😌 24\n",
      ":light_skin_tone: 🏻 23\n",
      ":unamused_face: 😒 22\n",
      ":beaming_face_with_smiling_eyes: 😁 22\n",
      ":medium-light_skin_tone: 🏼 21\n",
      ":new_moon_face: 🌚 21\n",
      ":grinning_face_with_big_eyes: 😃 18\n",
      ":persevering_face: 😣 17\n",
      ":popcorn: 🍿 15\n",
      ":flushed_face: 😳 15\n",
      ":cat: 🐈 12\n",
      ":see-no-evil_monkey: 🙈 12\n",
      ":pensive_face: 😔 12\n",
      ":OK_hand: 👌 10\n",
      ":full_moon_face: 🌝 10\n",
      ":yawning_face: 🥱 8\n",
      ":call_me_hand: 🤙 7\n",
      ":winking_face: 😉 6\n",
      ":backhand_index_pointing_up: 👆 5\n",
      ":loudly_crying_face: 😭 4\n",
      ":clapping_hands: 👏 4\n",
      ":person_facepalming: 🤦 3\n",
      ":raised_hand: ✋ 2\n",
      ":crying_face: 😢 2\n",
      ":smiling_face_with_smiling_eyes: 😊 1\n",
      ":middle_finger: 🖕 1\n",
      ":index_pointing_up: ☝ 1\n",
      ":copyright: © 1\n",
      ":factory: 🏭 1\n",
      ":smiling_face_with_sunglasses: 😎 1\n",
      ":star-struck: 🤩 1\n"
     ]
    }
   ],
   "source": [
    "sorted_counter = dict()\n",
    "sorted1 = list()\n",
    "sorted2 = list()\n",
    "for w in sorted(c, key=c.get, reverse=True):\n",
    "    print(emoji.demojize(w), w, c[w])\n",
    "    sorted_counter[w] = c[w]\n",
    "    sorted1.append(emoji.demojize(w))\n",
    "    sorted2.append(c[w])"
   ]
  },
  {
   "cell_type": "code",
   "execution_count": 119,
   "id": "fc641265",
   "metadata": {},
   "outputs": [
    {
     "data": {
      "text/plain": [
       "<AxesSubplot:>"
      ]
     },
     "execution_count": 119,
     "metadata": {},
     "output_type": "execute_result"
    },
    {
     "data": {
      "image/png": "[encoded data removed]",
      "text/plain": [
       "<Figure size 1800x1440 with 1 Axes>"
      ]
     },
     "metadata": {
      "needs_background": "light"
     },
     "output_type": "display_data"
    }
   ],
   "source": [
    "plt.figure(figsize=(25,20))\n",
    "sns.barplot(x = sorted2, y = sorted1, orient=\"h\")"
   ]
  },
  {
   "cell_type": "markdown",
   "id": "4b305391",
   "metadata": {},
   "source": [
    "### Сколько emoji содержится в каждом сообщении"
   ]
  },
  {
   "cell_type": "code",
   "execution_count": 120,
   "id": "37164d39",
   "metadata": {},
   "outputs": [],
   "source": [
    "count_list = []\n",
    "message_count = []\n",
    "def emoji_counter(s):\n",
    "    count_list.clear()\n",
    "    for c in s:\n",
    "        if c in emoji.UNICODE_EMOJI['en']:\n",
    "            count_list.append(c)\n",
    "    message_count.append(len(count_list))\n",
    "    return message_count"
   ]
  },
  {
   "cell_type": "code",
   "execution_count": 121,
   "id": "18c5f51e",
   "metadata": {},
   "outputs": [],
   "source": [
    "message_count = df_emoji.apply(emoji_counter).iloc[-1]"
   ]
  },
  {
   "cell_type": "code",
   "execution_count": 124,
   "id": "b75e145b",
   "metadata": {},
   "outputs": [
    {
     "name": "stdout",
     "output_type": "stream",
     "text": [
      "1766\n"
     ]
    }
   ],
   "source": [
    "count = 0\n",
    "for j in message_count:\n",
    "    count += j\n",
    "print(count)"
   ]
  },
  {
   "cell_type": "code",
   "execution_count": 126,
   "id": "65a0d5d7",
   "metadata": {},
   "outputs": [
    {
     "name": "stdout",
     "output_type": "stream",
     "text": [
      "1.7624750499001995\n"
     ]
    }
   ],
   "source": [
    "avrg_emoji = count / len(message_count)\n",
    "print(avrg_emoji)"
   ]
  },
  {
   "cell_type": "markdown",
   "id": "9e7b7d2d",
   "metadata": {},
   "source": [
    "Таким образом, если emoji в сообщении используются, то в среднем около 2 раз"
   ]
  },
  {
   "cell_type": "code",
   "execution_count": null,
   "id": "6cfd7e33",
   "metadata": {},
   "outputs": [],
   "source": []
  }
 ],
 "metadata": {
  "kernelspec": {
   "display_name": "Python 3",
   "language": "python",
   "name": "python3"
  },
  "language_info": {
   "codemirror_mode": {
    "name": "ipython",
    "version": 3
   },
   "file_extension": ".py",
   "mimetype": "text/x-python",
   "name": "python",
   "nbconvert_exporter": "python",
   "pygments_lexer": "ipython3",
   "version": "3.8.8"
  }
 },
 "nbformat": 4,
 "nbformat_minor": 5
}
