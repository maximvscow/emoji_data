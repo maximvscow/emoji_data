{
 "cells": [
  {
   "cell_type": "code",
   "execution_count": 1,
   "id": "6428302e",
   "metadata": {},
   "outputs": [],
   "source": [
    "import pandas as pd\n",
    "import emoji"
   ]
  },
  {
   "cell_type": "code",
   "execution_count": 4,
   "id": "c06f13f7",
   "metadata": {},
   "outputs": [],
   "source": [
    "colnames = ['index', 'comment']"
   ]
  },
  {
   "cell_type": "code",
   "execution_count": 9,
   "id": "7634435e",
   "metadata": {},
   "outputs": [],
   "source": [
    "df = pd.read_csv('vk_parce/data.csv', names=colnames, header=None)"
   ]
  },
  {
   "cell_type": "code",
   "execution_count": 11,
   "id": "b40aaa8c",
   "metadata": {},
   "outputs": [],
   "source": [
    "df = df.drop(labels = [0,1],axis = 0)"
   ]
  },
  {
   "cell_type": "code",
   "execution_count": 13,
   "id": "06abcc84",
   "metadata": {},
   "outputs": [],
   "source": [
    "df = df.drop(columns = ['index'],axis = 1)"
   ]
  },
  {
   "cell_type": "code",
   "execution_count": 14,
   "id": "957fa2bb",
   "metadata": {},
   "outputs": [
    {
     "data": {
      "text/html": [
       "<div>\n",
       "<style scoped>\n",
       "    .dataframe tbody tr th:only-of-type {\n",
       "        vertical-align: middle;\n",
       "    }\n",
       "\n",
       "    .dataframe tbody tr th {\n",
       "        vertical-align: top;\n",
       "    }\n",
       "\n",
       "    .dataframe thead th {\n",
       "        text-align: right;\n",
       "    }\n",
       "</style>\n",
       "<table border=\"1\" class=\"dataframe\">\n",
       "  <thead>\n",
       "    <tr style=\"text-align: right;\">\n",
       "      <th></th>\n",
       "      <th>comment</th>\n",
       "    </tr>\n",
       "  </thead>\n",
       "  <tbody>\n",
       "    <tr>\n",
       "      <th>2</th>\n",
       "      <td>Немцы так нехотя делают эти санкции, высылку д...</td>\n",
       "    </tr>\n",
       "    <tr>\n",
       "      <th>3</th>\n",
       "      <td>а в чём прикол дипломатов туда-сюда гонять ?</td>\n",
       "    </tr>\n",
       "    <tr>\n",
       "      <th>4</th>\n",
       "      <td>Вообще, это все логично. Абсолютно ожидаемое п...</td>\n",
       "    </tr>\n",
       "    <tr>\n",
       "      <th>5</th>\n",
       "      <td>NaN</td>\n",
       "    </tr>\n",
       "    <tr>\n",
       "      <th>6</th>\n",
       "      <td>[id717273538|Matilda], детишками ты никого не ...</td>\n",
       "    </tr>\n",
       "    <tr>\n",
       "      <th>...</th>\n",
       "      <td>...</td>\n",
       "    </tr>\n",
       "    <tr>\n",
       "      <th>10080</th>\n",
       "      <td>[id166433695|Олеся], а почему? Что случилось?</td>\n",
       "    </tr>\n",
       "    <tr>\n",
       "      <th>10081</th>\n",
       "      <td>[id456583764|Бекжан], скрепа немного прогнулась.</td>\n",
       "    </tr>\n",
       "    <tr>\n",
       "      <th>10082</th>\n",
       "      <td>[id166433695|Олеся], интересно, почему?) ну ин...</td>\n",
       "    </tr>\n",
       "    <tr>\n",
       "      <th>10083</th>\n",
       "      <td>[id463112073|Михаил], да вроде нет, нет твоих ...</td>\n",
       "    </tr>\n",
       "    <tr>\n",
       "      <th>10084</th>\n",
       "      <td>[id589969600|Петр], шутишь прям как твой кумир...</td>\n",
       "    </tr>\n",
       "  </tbody>\n",
       "</table>\n",
       "<p>10083 rows × 1 columns</p>\n",
       "</div>"
      ],
      "text/plain": [
       "                                                 comment\n",
       "2      Немцы так нехотя делают эти санкции, высылку д...\n",
       "3           а в чём прикол дипломатов туда-сюда гонять ?\n",
       "4      Вообще, это все логично. Абсолютно ожидаемое п...\n",
       "5                                                    NaN\n",
       "6      [id717273538|Matilda], детишками ты никого не ...\n",
       "...                                                  ...\n",
       "10080      [id166433695|Олеся], а почему? Что случилось?\n",
       "10081   [id456583764|Бекжан], скрепа немного прогнулась.\n",
       "10082  [id166433695|Олеся], интересно, почему?) ну ин...\n",
       "10083  [id463112073|Михаил], да вроде нет, нет твоих ...\n",
       "10084  [id589969600|Петр], шутишь прям как твой кумир...\n",
       "\n",
       "[10083 rows x 1 columns]"
      ]
     },
     "execution_count": 14,
     "metadata": {},
     "output_type": "execute_result"
    }
   ],
   "source": [
    "df"
   ]
  },
  {
   "cell_type": "code",
   "execution_count": null,
   "id": "61f29414",
   "metadata": {},
   "outputs": [],
   "source": []
  }
 ],
 "metadata": {
  "kernelspec": {
   "display_name": "Python 3",
   "language": "python",
   "name": "python3"
  },
  "language_info": {
   "codemirror_mode": {
    "name": "ipython",
    "version": 3
   },
   "file_extension": ".py",
   "mimetype": "text/x-python",
   "name": "python",
   "nbconvert_exporter": "python",
   "pygments_lexer": "ipython3",
   "version": "3.8.8"
  }
 },
 "nbformat": 4,
 "nbformat_minor": 5
}
