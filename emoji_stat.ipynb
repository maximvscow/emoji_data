{
 "cells": [
  {
   "cell_type": "code",
   "execution_count": 2,
   "id": "e39b73bd",
   "metadata": {},
   "outputs": [],
   "source": [
    "import pandas as pd\n",
    "import json\n",
    "import re"
   ]
  },
  {
   "cell_type": "code",
   "execution_count": 12,
   "id": "4714e758",
   "metadata": {},
   "outputs": [],
   "source": [
    "df = pd.read_csv('df3-1.csv')"
   ]
  },
  {
   "cell_type": "code",
   "execution_count": 13,
   "id": "de1f5b51",
   "metadata": {},
   "outputs": [
    {
     "data": {
      "text/html": [
       "<div>\n",
       "<style scoped>\n",
       "    .dataframe tbody tr th:only-of-type {\n",
       "        vertical-align: middle;\n",
       "    }\n",
       "\n",
       "    .dataframe tbody tr th {\n",
       "        vertical-align: top;\n",
       "    }\n",
       "\n",
       "    .dataframe thead th {\n",
       "        text-align: right;\n",
       "    }\n",
       "</style>\n",
       "<table border=\"1\" class=\"dataframe\">\n",
       "  <thead>\n",
       "    <tr style=\"text-align: right;\">\n",
       "      <th></th>\n",
       "      <th>Unnamed: 0</th>\n",
       "      <th>id</th>\n",
       "      <th>comment</th>\n",
       "    </tr>\n",
       "  </thead>\n",
       "  <tbody>\n",
       "    <tr>\n",
       "      <th>0</th>\n",
       "      <td>0</td>\n",
       "      <td>297046299</td>\n",
       "      <td>['Если человеку нравится делать маникюр себе и...</td>\n",
       "    </tr>\n",
       "    <tr>\n",
       "      <th>1</th>\n",
       "      <td>1</td>\n",
       "      <td>425881183</td>\n",
       "      <td>['Я победила муссона в мгр урааа', 'Блин, ребя...</td>\n",
       "    </tr>\n",
       "    <tr>\n",
       "      <th>2</th>\n",
       "      <td>2</td>\n",
       "      <td>581215134</td>\n",
       "      <td>['Тот самый Анатолий ноготочки?']</td>\n",
       "    </tr>\n",
       "    <tr>\n",
       "      <th>3</th>\n",
       "      <td>3</td>\n",
       "      <td>503582303</td>\n",
       "      <td>['Вахтовикам надо делать ДНК тесты своим детям...</td>\n",
       "    </tr>\n",
       "    <tr>\n",
       "      <th>4</th>\n",
       "      <td>4</td>\n",
       "      <td>34853753</td>\n",
       "      <td>['Подумала сначала что лентач сломался']</td>\n",
       "    </tr>\n",
       "    <tr>\n",
       "      <th>...</th>\n",
       "      <td>...</td>\n",
       "      <td>...</td>\n",
       "      <td>...</td>\n",
       "    </tr>\n",
       "    <tr>\n",
       "      <th>506</th>\n",
       "      <td>506</td>\n",
       "      <td>698439935</td>\n",
       "      <td>['Фраза -вылететь в трубу, заиграла новыми кра...</td>\n",
       "    </tr>\n",
       "    <tr>\n",
       "      <th>507</th>\n",
       "      <td>507</td>\n",
       "      <td>627800377</td>\n",
       "      <td>['Все будет хорошо,в стране поднимут цены на г...</td>\n",
       "    </tr>\n",
       "    <tr>\n",
       "      <th>508</th>\n",
       "      <td>508</td>\n",
       "      <td>592076404</td>\n",
       "      <td>['Ну как бы дед иногда что путное делает хоть ...</td>\n",
       "    </tr>\n",
       "    <tr>\n",
       "      <th>509</th>\n",
       "      <td>509</td>\n",
       "      <td>37817370</td>\n",
       "      <td>['Больше санкции,  че за детские санкции']</td>\n",
       "    </tr>\n",
       "    <tr>\n",
       "      <th>510</th>\n",
       "      <td>510</td>\n",
       "      <td>414851698</td>\n",
       "      <td>['Вброс']</td>\n",
       "    </tr>\n",
       "  </tbody>\n",
       "</table>\n",
       "<p>511 rows × 3 columns</p>\n",
       "</div>"
      ],
      "text/plain": [
       "     Unnamed: 0         id                                            comment\n",
       "0             0  297046299  ['Если человеку нравится делать маникюр себе и...\n",
       "1             1  425881183  ['Я победила муссона в мгр урааа', 'Блин, ребя...\n",
       "2             2  581215134                  ['Тот самый Анатолий ноготочки?']\n",
       "3             3  503582303  ['Вахтовикам надо делать ДНК тесты своим детям...\n",
       "4             4   34853753           ['Подумала сначала что лентач сломался']\n",
       "..          ...        ...                                                ...\n",
       "506         506  698439935  ['Фраза -вылететь в трубу, заиграла новыми кра...\n",
       "507         507  627800377  ['Все будет хорошо,в стране поднимут цены на г...\n",
       "508         508  592076404  ['Ну как бы дед иногда что путное делает хоть ...\n",
       "509         509   37817370         ['Больше санкции,  че за детские санкции']\n",
       "510         510  414851698                                          ['Вброс']\n",
       "\n",
       "[511 rows x 3 columns]"
      ]
     },
     "execution_count": 13,
     "metadata": {},
     "output_type": "execute_result"
    }
   ],
   "source": [
    "df"
   ]
  },
  {
   "cell_type": "code",
   "execution_count": null,
   "id": "039d56c0",
   "metadata": {},
   "outputs": [],
   "source": []
  }
 ],
 "metadata": {
  "kernelspec": {
   "display_name": "Python 3",
   "language": "python",
   "name": "python3"
  },
  "language_info": {
   "codemirror_mode": {
    "name": "ipython",
    "version": 3
   },
   "file_extension": ".py",
   "mimetype": "text/x-python",
   "name": "python",
   "nbconvert_exporter": "python",
   "pygments_lexer": "ipython3",
   "version": "3.8.8"
  }
 },
 "nbformat": 4,
 "nbformat_minor": 5
}
