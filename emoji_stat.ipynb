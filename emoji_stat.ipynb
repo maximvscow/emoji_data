{
 "cells": [
  {
   "cell_type": "code",
   "execution_count": 68,
   "id": "e39b73bd",
   "metadata": {},
   "outputs": [],
   "source": [
    "import pandas as pd\n",
    "import json\n",
    "import re"
   ]
  },
  {
   "cell_type": "code",
   "execution_count": 29,
   "id": "4714e758",
   "metadata": {},
   "outputs": [],
   "source": [
    "df = pd.read_csv('df2.csv')"
   ]
  },
  {
   "cell_type": "code",
   "execution_count": 70,
   "id": "ff87b554",
   "metadata": {},
   "outputs": [],
   "source": [
    "elem =  re.sub('[{}\\[\\]]', \"\", df.iat[1,1]) "
   ]
  },
  {
   "cell_type": "code",
   "execution_count": 92,
   "id": "3e793514",
   "metadata": {},
   "outputs": [],
   "source": [
    "l = elem.split(', \\'')"
   ]
  },
  {
   "cell_type": "code",
   "execution_count": 93,
   "id": "ba901f90",
   "metadata": {},
   "outputs": [
    {
     "data": {
      "text/plain": [
       "[\"'count': 2\",\n",
       " \"items': 'id': 17284193\",\n",
       " \"from_id': 586783247\",\n",
       " \"date': 1645207351\",\n",
       " \"text': 'Ппц, Байден чмо'\",\n",
       " \"post_id': 17284190\",\n",
       " \"owner_id': -135209264\",\n",
       " \"parents_stack': \",\n",
       " \"thread': 'count': 0\",\n",
       " \"items': \",\n",
       " \"can_post': True\",\n",
       " \"show_reply_button': True\",\n",
       " \"id': 17284194\",\n",
       " \"from_id': 597756143\",\n",
       " \"date': 1645207375\",\n",
       " \"text': 'Честно говоря вообще не понимаю, тысячи лет быть одним народом, и из-за политических провокаций так легко за пару лет изменить взгляды обычных людей на точно такой же народ, с точно таким же менталитетом)))'\",\n",
       " \"post_id': 17284190\",\n",
       " \"owner_id': -135209264\",\n",
       " \"parents_stack': \",\n",
       " \"thread': 'count': 0\",\n",
       " \"items': \",\n",
       " \"can_post': True\",\n",
       " \"show_reply_button': True\",\n",
       " \"current_level_count': 2\",\n",
       " \"can_post': True\",\n",
       " \"show_reply_button': True\"]"
      ]
     },
     "execution_count": 93,
     "metadata": {},
     "output_type": "execute_result"
    }
   ],
   "source": [
    "l"
   ]
  },
  {
   "cell_type": "code",
   "execution_count": null,
   "id": "eb0786a3",
   "metadata": {},
   "outputs": [],
   "source": []
  }
 ],
 "metadata": {
  "kernelspec": {
   "display_name": "Python 3",
   "language": "python",
   "name": "python3"
  },
  "language_info": {
   "codemirror_mode": {
    "name": "ipython",
    "version": 3
   },
   "file_extension": ".py",
   "mimetype": "text/x-python",
   "name": "python",
   "nbconvert_exporter": "python",
   "pygments_lexer": "ipython3",
   "version": "3.8.8"
  }
 },
 "nbformat": 4,
 "nbformat_minor": 5
}
